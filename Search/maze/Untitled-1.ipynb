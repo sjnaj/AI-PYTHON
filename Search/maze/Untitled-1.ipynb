{
 "cells": [
  {
   "cell_type": "code",
   "execution_count": null,
   "metadata": {},
   "outputs": [
    {
     "ename": "",
     "evalue": "",
     "output_type": "error",
     "traceback": [
      "\u001b[1;31mFailed to start the Kernel. \n",
      "\u001b[1;31mFailed to start the Kernel 'py9 (Python 3.9.13)'. \n",
      "\u001b[1;31mView Jupyter <a href='command:jupyter.viewOutput'>log</a> for further details. Cannot read properties of undefined (reading 'makeSettings')"
     ]
    }
   ],
   "source": [
    "'''\n",
    "Author: fengsc\n",
    "Date: 2022-03-16 12:20:07\n",
    "LastEditTime: 2022-03-16 18:43:03\n",
    "'''\n",
    "import itertools\n",
    "\n",
    "import numpy as np\n",
    "import matplotlib.pyplot as plt\n",
    "import matplotlib.animation as animation\n",
    "\n",
    "\n",
    "def data_gen():#返回控制参数\n",
    "    for cnt in itertools.count():\n",
    "        t = cnt / 10\n",
    "        yield t, np.sin(2*np.pi*t) * np.exp(-t/10.)# *每十帧返回一组值\n",
    "\n",
    "\n",
    "def init():# 第一帧前调用，此处用来调整尺度\n",
    "    ax.set_ylim(-1.1, 1.1)\n",
    "    ax.set_xlim(0, 10)\n",
    "    line.set_data(xdata, ydata)\n",
    "    return line,\n",
    "# !函数可访问外部的变量，以下变量，句柄为各个函数共享，函数内可以修改但不能赋值，除非声明global\n",
    "fig, ax = plt.subplots()\n",
    "line, = ax.plot([], [], lw=2)#定义为元组因为作为返回值需要可迭代\n",
    "ax.grid()\n",
    "xdata, ydata = [], []\n",
    "\n",
    "\n",
    "def run(data):# !接受从gen_function()传来的数据，其默认是itertools.count()\n",
    "    # update the data\n",
    "    t, y = data#获取一组数据加入data\n",
    "    xdata.append(t)\n",
    "    ydata.append(y)\n",
    "    xmin, xmax = ax.get_xlim()\n",
    "\n",
    "    if t >= xmax:\n",
    "        ax.set_xlim(xmin, 2*xmax)# *修改x轴范围\n",
    "        ax.figure.canvas.draw()# *刷新画布\n",
    "    line.set_data(xdata, ydata)\n",
    "\n",
    "    return line,# 返回画布句柄(元组)\n",
    "\n",
    "ani = animation.FuncAnimation(fig, run, data_gen, interval=10, init_func=init)\n",
    "ani.save(\"demo1.gif\")\n",
    "plt.show()"
   ]
  }
 ],
 "metadata": {
  "kernelspec": {
   "display_name": "Python 3.9.13 ('py9')",
   "language": "python",
   "name": "python3"
  },
  "language_info": {
   "name": "python",
   "version": "3.9.13"
  },
  "orig_nbformat": 4,
  "vscode": {
   "interpreter": {
    "hash": "e4d30f83f73ca8eeb16cf5c9f00793e556f112afb9c3537a5d1cf9182ec9535b"
   }
  }
 },
 "nbformat": 4,
 "nbformat_minor": 2
}
